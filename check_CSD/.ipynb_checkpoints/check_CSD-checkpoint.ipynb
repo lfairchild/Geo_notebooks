{
 "cells": [
  {
   "cell_type": "code",
   "execution_count": 1,
   "metadata": {},
   "outputs": [],
   "source": [
    "import os\n",
    "import fnmatch\n",
    "import pandas as pd\n",
    "import numpy as np"
   ]
  },
  {
   "cell_type": "markdown",
   "metadata": {},
   "source": [
    "### Step 1. \n",
    "Type in path to the site folder on your computer."
   ]
  },
  {
   "cell_type": "code",
   "execution_count": 2,
   "metadata": {},
   "outputs": [],
   "source": [
    "#type in path to site\n",
    "path = os.path.dirname('/Users/lukefairchild765/Dropbox/Hargraves_Data/Mongolia_Zavkhan/Z21/')"
   ]
  },
  {
   "cell_type": "code",
   "execution_count": 3,
   "metadata": {},
   "outputs": [],
   "source": [
    "# https://stackoverflow.com/questions/1724693/find-a-file-in-python\n",
    "def find(pattern, path):\n",
    "    result = []\n",
    "    for root, dirs, files in os.walk(path):\n",
    "        for name in files:\n",
    "            if fnmatch.fnmatch(name, pattern):\n",
    "                result.append(os.path.join(root, name))\n",
    "    return result\n",
    "\n",
    "#must enter the full extension of the sam file you want here if there are\n",
    "#multiple sam files--it will choose the default sam file if not\n",
    "sam_file = find('*.sam', path)"
   ]
  },
  {
   "cell_type": "code",
   "execution_count": 4,
   "metadata": {},
   "outputs": [],
   "source": [
    "with open(sam_file[0]) as f:\n",
    "    sample_list = f.readlines()[2:]"
   ]
  },
  {
   "cell_type": "code",
   "execution_count": 5,
   "metadata": {},
   "outputs": [],
   "source": [
    "samples = []\n",
    "for sample in [i.strip(\"\\r\\n\") for i in sample_list]:\n",
    "    samples.append(find(sample, path)[0])"
   ]
  },
  {
   "cell_type": "code",
   "execution_count": 6,
   "metadata": {},
   "outputs": [],
   "source": [
    "def check_CSD(sample_list, step, max_CSD):\n",
    "    data = dict()\n",
    "    for i in sample_list:\n",
    "        #sample_ex = pd.read_fwf(i, delim_whitespace=True, skiprows=2, header=None, usecols=[0, 5], names = ['step', 'intensity'])\n",
    "        sample_ex = pd.read_fwf(i, skiprows=2, widths=[3,3,6,6,6,6,9,6], \n",
    "                                names=['demag_type', 'step', 'dec_geo', 'inc_geo', \n",
    "                                       'dec_tc', 'inc_tc', 'intensity', 'error_angle'], dtype={'step':str})\n",
    "        for j in range(len(sample_ex)):\n",
    "            if sample_ex['step'][j]!='nan':\n",
    "                sample_ex.demag_type.at[j] = sample_ex['demag_type'][j]+sample_ex['step'][j]\n",
    "        sample_name = os.path.basename(i)\n",
    "        data[sample_name] = {}\n",
    "        # the '.tolist()[-1]' makes sure that you take the last measurement of any one step\n",
    "        # in the case of duplicates\n",
    "        data[sample_name]['CSD'] = sample_ex.loc[sample_ex['demag_type']==step]['error_angle'].tolist()\n",
    "        for err in data[sample_name]['CSD']:\n",
    "            if err<max_CSD:\n",
    "                del data[sample_name]\n",
    "#         data[sample_name]['CSD'] = sample_ex.loc[sample_ex['error_angle']>max_CSD]['error_angle'].tolist()\n",
    "    return pd.DataFrame(data).transpose()\n",
    "    return data\n",
    "\n",
    "#     dataframe = pd.DataFrame(data)\n",
    "#     #impose a sensible ordering of rows\n",
    "#     try:\n",
    "#         dataframe.index = [u'NRM', u'{}'.format(step1), u'{}'.format(step2), u'moment_diff', u'moment_diff_percent']\n",
    "#     except: #if NRM is one of the steps for comparison\n",
    "#         dataframe.index = [u'{}'.format(step1), u'{}'.format(step2), u'moment_diff', u'moment_diff_percent']\n",
    "#     dataframe = dataframe.transpose()\n",
    "#     return dataframe"
   ]
  },
  {
   "cell_type": "markdown",
   "metadata": {},
   "source": [
    "### Step 2. \n",
    "In the line\n",
    "```python \n",
    "data = check_CSD(samples, 'TT300', 6)\n",
    "```\n",
    "replace ```'TT300'``` with the name of the demagnetization step and ```6``` with the maximum CSD of the measurement. The function will return a list of samples for which **all** recorded measurements exceed that CSD.(If there is one measurement that does not exceed ```max_CSD```, that sample will not be returned.)\n",
    "\n",
    "For example, if you want to check measurements that had just been treated at 100 °C, and you wanted to make sure that all measurements were below a CSD of 8°, you would change the line below to\n",
    "```python \n",
    "data = check_CSD(samples, 'TT100', 8)\n",
    "```"
   ]
  },
  {
   "cell_type": "code",
   "execution_count": 10,
   "metadata": {},
   "outputs": [],
   "source": [
    "data = check_CSD(samples,'TT300',6)"
   ]
  },
  {
   "cell_type": "markdown",
   "metadata": {},
   "source": [
    "### Step 3. \n",
    "View and check the output."
   ]
  },
  {
   "cell_type": "code",
   "execution_count": 11,
   "metadata": {},
   "outputs": [
    {
     "data": {
      "text/html": [
       "<div>\n",
       "<style scoped>\n",
       "    .dataframe tbody tr th:only-of-type {\n",
       "        vertical-align: middle;\n",
       "    }\n",
       "\n",
       "    .dataframe tbody tr th {\n",
       "        vertical-align: top;\n",
       "    }\n",
       "\n",
       "    .dataframe thead th {\n",
       "        text-align: right;\n",
       "    }\n",
       "</style>\n",
       "<table border=\"1\" class=\"dataframe\">\n",
       "  <thead>\n",
       "    <tr style=\"text-align: right;\">\n",
       "      <th></th>\n",
       "      <th>CSD</th>\n",
       "    </tr>\n",
       "  </thead>\n",
       "  <tbody>\n",
       "    <tr>\n",
       "      <th>Z21.1a</th>\n",
       "      <td>[57.3, 61.8, 56.2]</td>\n",
       "    </tr>\n",
       "    <tr>\n",
       "      <th>Z21.2a</th>\n",
       "      <td>[43.8, 49.5, 37.9]</td>\n",
       "    </tr>\n",
       "    <tr>\n",
       "      <th>Z21.3a</th>\n",
       "      <td>[20.1, 26.0, 30.9]</td>\n",
       "    </tr>\n",
       "    <tr>\n",
       "      <th>Z21.4a</th>\n",
       "      <td>[8.8, 9.1, 11.1]</td>\n",
       "    </tr>\n",
       "    <tr>\n",
       "      <th>Z21.6a</th>\n",
       "      <td>[25.1, 6.9]</td>\n",
       "    </tr>\n",
       "  </tbody>\n",
       "</table>\n",
       "</div>"
      ],
      "text/plain": [
       "                       CSD\n",
       "Z21.1a  [57.3, 61.8, 56.2]\n",
       "Z21.2a  [43.8, 49.5, 37.9]\n",
       "Z21.3a  [20.1, 26.0, 30.9]\n",
       "Z21.4a    [8.8, 9.1, 11.1]\n",
       "Z21.6a         [25.1, 6.9]"
      ]
     },
     "execution_count": 11,
     "metadata": {},
     "output_type": "execute_result"
    }
   ],
   "source": [
    "data"
   ]
  },
  {
   "cell_type": "markdown",
   "metadata": {},
   "source": [
    "# Step 4. \n",
    "Output the data!"
   ]
  },
  {
   "cell_type": "code",
   "execution_count": 10,
   "metadata": {},
   "outputs": [],
   "source": [
    "# uncomment line below to export the above dataframe to excel\n",
    "# dataframe.to_excel(os.path.basename(path)+'.xlsx')"
   ]
  }
 ],
 "metadata": {
  "anaconda-cloud": {},
  "hide_input": false,
  "kernelspec": {
   "display_name": "Python [conda root]",
   "language": "python",
   "name": "conda-root-py"
  },
  "language_info": {
   "codemirror_mode": {
    "name": "ipython",
    "version": 3
   },
   "file_extension": ".py",
   "mimetype": "text/x-python",
   "name": "python",
   "nbconvert_exporter": "python",
   "pygments_lexer": "ipython3",
   "version": "3.5.4"
  }
 },
 "nbformat": 4,
 "nbformat_minor": 1
}
