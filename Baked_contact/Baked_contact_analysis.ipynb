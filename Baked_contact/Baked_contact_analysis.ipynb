{
 "cells": [
  {
   "cell_type": "code",
   "execution_count": 1,
   "metadata": {
    "collapsed": false
   },
   "outputs": [],
   "source": [
    "import pandas as pd\n",
    "import numpy as np\n",
    "import matplotlib.pyplot as plt\n",
    "%matplotlib inline"
   ]
  },
  {
   "cell_type": "code",
   "execution_count": 2,
   "metadata": {
    "collapsed": false
   },
   "outputs": [],
   "source": [
    "def fit_step(folders, fit_name):\n",
    "    all_fits = pd.DataFrame(columns=['er_sample_name', 'measurement_step_max', 'specimen_comp_name'])\n",
    "    for name in folders:\n",
    "        DeI2 = pd.read_csv('./'+name+'/pmag_specimens.txt', header=1, \n",
    "                           sep='\\t', usecols=('er_sample_name', \n",
    "                                              'measurement_step_max', \n",
    "                                              'specimen_comp_name'))\n",
    "        DeI2_ht = DeI2.loc[DeI2['specimen_comp_name']==fit_name]\n",
    "        DeI2_ht.reset_index(inplace=True, drop=True)\n",
    "        for i in range(len(DeI2_ht)):\n",
    "            DeI2_ht.measurement_step_max[i] = DeI2_ht.measurement_step_max[i] - 273\n",
    "        all_fits = all_fits.append(DeI2_ht)\n",
    "    return all_fits"
   ]
  },
  {
   "cell_type": "code",
   "execution_count": 3,
   "metadata": {
    "collapsed": false
   },
   "outputs": [
    {
     "name": "stdout",
     "output_type": "stream",
     "text": [
      "/Users/lukefairchild765/GitHub_files/2015_Breccia_Dikes/Data/magic_files/Thermal/Host_rock\n"
     ]
    }
   ],
   "source": [
    "%cd '../magic_files/Thermal/Host_rock/'\n",
    "#%cd '../magic_files/Thermal/'"
   ]
  },
  {
   "cell_type": "code",
   "execution_count": 4,
   "metadata": {
    "collapsed": false
   },
   "outputs": [
    {
     "name": "stderr",
     "output_type": "stream",
     "text": [
      "/Users/lukefairchild765/anaconda/envs/python2/lib/python2.7/site-packages/ipykernel/__main__.py:11: SettingWithCopyWarning: \n",
      "A value is trying to be set on a copy of a slice from a DataFrame\n",
      "\n",
      "See the the caveats in the documentation: http://pandas.pydata.org/pandas-docs/stable/indexing.html#indexing-view-versus-copy\n",
      "/Users/lukefairchild765/anaconda/envs/python2/lib/python2.7/site-packages/ipykernel/__main__.py:4: SettingWithCopyWarning: \n",
      "A value is trying to be set on a copy of a slice from a DataFrame\n",
      "\n",
      "See the the caveats in the documentation: http://pandas.pydata.org/pandas-docs/stable/indexing.html#indexing-view-versus-copy\n",
      "/Users/lukefairchild765/anaconda/envs/python2/lib/python2.7/site-packages/ipykernel/__main__.py:5: SettingWithCopyWarning: \n",
      "A value is trying to be set on a copy of a slice from a DataFrame\n",
      "\n",
      "See the the caveats in the documentation: http://pandas.pydata.org/pandas-docs/stable/indexing.html#indexing-view-versus-copy\n"
     ]
    }
   ],
   "source": [
    "#folders = !ls\n",
    "folders=['PI32', 'PI33', 'PI34']\n",
    "#folders.remove('Host_rock')\n",
    "flows_MT = fit_step(folders, 'MT')\n",
    "flows_HT = fit_step(folders, 'HT')\n",
    "# breccia = fit_step(folders)"
   ]
  },
  {
   "cell_type": "code",
   "execution_count": 5,
   "metadata": {
    "collapsed": false
   },
   "outputs": [
    {
     "name": "stdout",
     "output_type": "stream",
     "text": [
      "/Users/lukefairchild765/GitHub_files/2015_Breccia_Dikes/Data\n"
     ]
    }
   ],
   "source": [
    "%cd '../../../'"
   ]
  },
  {
   "cell_type": "code",
   "execution_count": 6,
   "metadata": {
    "collapsed": false
   },
   "outputs": [],
   "source": [
    "# breccia.reset_index(inplace=True,drop=True)\n",
    "# flows_HT.reset_index(inplace=True,drop=True)\n",
    "# flows_MT.reset_index(inplace=True,drop=True)\n",
    "# flows_HT.to_csv('./baked_contact_analysis/flows_HT.csv')\n",
    "# flows_MT.to_csv('./baked_contact_analysis/flows_MT.csv')\n",
    "#breccia.to_csv('../../baked_contact_analysis/breccia_max_temp.csv')"
   ]
  },
  {
   "cell_type": "code",
   "execution_count": 6,
   "metadata": {
    "collapsed": false
   },
   "outputs": [
    {
     "data": {
      "text/html": [
       "<div>\n",
       "<table border=\"1\" class=\"dataframe\">\n",
       "  <thead>\n",
       "    <tr style=\"text-align: right;\">\n",
       "      <th></th>\n",
       "      <th>sample</th>\n",
       "      <th>max_temp</th>\n",
       "      <th>distance_m</th>\n",
       "      <th>dis_norm</th>\n",
       "    </tr>\n",
       "  </thead>\n",
       "  <tbody>\n",
       "    <tr>\n",
       "      <th>0</th>\n",
       "      <td>PI24-16a</td>\n",
       "      <td>375</td>\n",
       "      <td>0.86</td>\n",
       "      <td>0.330769</td>\n",
       "    </tr>\n",
       "    <tr>\n",
       "      <th>1</th>\n",
       "      <td>PI24-17a</td>\n",
       "      <td>400</td>\n",
       "      <td>1.13</td>\n",
       "      <td>0.434615</td>\n",
       "    </tr>\n",
       "    <tr>\n",
       "      <th>2</th>\n",
       "      <td>PI24-18a</td>\n",
       "      <td>500</td>\n",
       "      <td>0.56</td>\n",
       "      <td>0.215385</td>\n",
       "    </tr>\n",
       "    <tr>\n",
       "      <th>3</th>\n",
       "      <td>PI24-20a</td>\n",
       "      <td>570</td>\n",
       "      <td>0.06</td>\n",
       "      <td>0.023077</td>\n",
       "    </tr>\n",
       "    <tr>\n",
       "      <th>4</th>\n",
       "      <td>PI24-21a</td>\n",
       "      <td>560</td>\n",
       "      <td>0.50</td>\n",
       "      <td>0.192308</td>\n",
       "    </tr>\n",
       "  </tbody>\n",
       "</table>\n",
       "</div>"
      ],
      "text/plain": [
       "     sample  max_temp  distance_m  dis_norm\n",
       "0  PI24-16a       375        0.86  0.330769\n",
       "1  PI24-17a       400        1.13  0.434615\n",
       "2  PI24-18a       500        0.56  0.215385\n",
       "3  PI24-20a       570        0.06  0.023077\n",
       "4  PI24-21a       560        0.50  0.192308"
      ]
     },
     "execution_count": 6,
     "metadata": {},
     "output_type": "execute_result"
    }
   ],
   "source": [
    "host = pd.read_csv('../../baked_contact_analysis/baked_contact.csv')\n",
    "host = host.fillna(0.1)\n",
    "host.head()"
   ]
  },
  {
   "cell_type": "code",
   "execution_count": 7,
   "metadata": {
    "collapsed": false
   },
   "outputs": [
    {
     "name": "stdout",
     "output_type": "stream",
     "text": [
      "/Users/lukefairchild765/GitHub_files/2015_Breccia_Dikes/Data/baked_contact_analysis\n"
     ]
    }
   ],
   "source": [
    "%cd '../../baked_contact_analysis'"
   ]
  },
  {
   "cell_type": "code",
   "execution_count": 15,
   "metadata": {
    "collapsed": false
   },
   "outputs": [
    {
     "data": {
      "image/png": "[encoded data removed]",
      "text/plain": [
       "<matplotlib.figure.Figure at 0x117bfe7d0>"
      ]
     },
     "metadata": {},
     "output_type": "display_data"
    }
   ],
   "source": [
    "plt.figure(figsize=(8,6))\n",
    "\n",
    "data_plt_x = []\n",
    "data_plt_y = []\n",
    "for i in range(len(breccia)):\n",
    "    data_plt_x.append(-0.5)\n",
    "    data_plt_y.append(breccia.measurement_step_max[i])\n",
    "    if i==0:\n",
    "        plt.scatter(-1,breccia.measurement_step_max[i],c='r',label=\"breccia\")\n",
    "    else:\n",
    "        plt.scatter(-1,breccia.measurement_step_max[i],c='r')\n",
    "breccia_mean_temp = np.mean(data_plt_y)\n",
    "breccia_std = np.std(data_plt_y)\n",
    "plt.errorbar(-0.7,breccia_mean_temp, yerr=breccia_std,label='breccia mean')\n",
    "\n",
    "data_plt_x = []\n",
    "data_plt_y = []\n",
    "\n",
    "for i in range(len(host)):\n",
    "    data_plt_x.append(host.distance_m[i])\n",
    "    data_plt_y.append(host.max_temp[i])\n",
    "    if i==0:\n",
    "        plt.scatter(host.distance_m[i],host.max_temp[i],c='b',label=\"host\")\n",
    "    else:\n",
    "        plt.scatter(host.distance_m[i],host.max_temp[i],c='b')\n",
    "x = np.array(data_plt_x)\n",
    "y = np.array(data_plt_y)\n",
    "nbins = 3\n",
    "\n",
    "n, _ = np.histogram(x, bins=nbins)\n",
    "sy, _ = np.histogram(x, bins=nbins, weights=y)\n",
    "sy2, _ = np.histogram(x, bins=nbins, weights=y*y)\n",
    "mean = sy / n\n",
    "std = np.sqrt(sy2/n - mean*mean)\n",
    "\n",
    "#plt.scatter(x, y)\n",
    "plt.errorbar((_[1:] + _[:-1])/2, mean, yerr=std, fmt='r-',label='host mean')\n",
    "plt.legend(loc=(0.75,0.8))\n",
    "plt.xlabel('Distance from nearest breccia dike')\n",
    "plt.ylabel('Max unblocking temperature ($^\\circ$C)')\n",
    "plt.savefig('baked_contact.pdf')\n",
    "plt.show()"
   ]
  },
  {
   "cell_type": "code",
   "execution_count": null,
   "metadata": {
    "collapsed": true
   },
   "outputs": [],
   "source": []
  }
 ],
 "metadata": {
  "hide_input": false,
  "kernelspec": {
   "display_name": "Python 2",
   "language": "python",
   "name": "python2"
  },
  "language_info": {
   "codemirror_mode": {
    "name": "ipython",
    "version": 2
   },
   "file_extension": ".py",
   "mimetype": "text/x-python",
   "name": "python",
   "nbconvert_exporter": "python",
   "pygments_lexer": "ipython2",
   "version": "2.7.11"
  }
 },
 "nbformat": 4,
 "nbformat_minor": 0
}
