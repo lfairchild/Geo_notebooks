{
 "cells": [
  {
   "cell_type": "code",
   "execution_count": 1,
   "metadata": {},
   "outputs": [],
   "source": [
    "import os\n",
    "import fnmatch\n",
    "import pandas as pd\n",
    "import numpy as np"
   ]
  },
  {
   "cell_type": "markdown",
   "metadata": {},
   "source": [
    "### Step 1. \n",
    "Type in path to the site folder on your computer."
   ]
  },
  {
   "cell_type": "code",
   "execution_count": 2,
   "metadata": {},
   "outputs": [],
   "source": [
    "#type in path to site folder on your computer\n",
    "path = os.path.dirname('/Users/lukefairchild765/Dropbox/Hargraves_Data/PretoriaGrp_SAfrica/Hekpoort2016/HC16-/')"
   ]
  },
  {
   "cell_type": "code",
   "execution_count": 3,
   "metadata": {},
   "outputs": [],
   "source": [
    "# https://stackoverflow.com/questions/1724693/find-a-file-in-python\n",
    "def find(pattern, path):\n",
    "    result = []\n",
    "    for root, dirs, files in os.walk(path):\n",
    "        for name in files:\n",
    "            if fnmatch.fnmatch(name, pattern):\n",
    "                result.append(os.path.join(root, name))\n",
    "    return result\n",
    "\n",
    "#must enter the full extension of the sam file you want here if there are\n",
    "#multiple sam files--it will choose the default sam file if not\n",
    "sam_file = find('*.sam', path)"
   ]
  },
  {
   "cell_type": "code",
   "execution_count": 4,
   "metadata": {},
   "outputs": [],
   "source": [
    "with open(sam_file[0]) as f:\n",
    "    sample_list = f.readlines()[2:]"
   ]
  },
  {
   "cell_type": "code",
   "execution_count": 5,
   "metadata": {},
   "outputs": [],
   "source": [
    "samples = []\n",
    "for sample in [i.strip(\"\\r\\n\") for i in sample_list]:\n",
    "    samples.append(find(sample, path)[0])"
   ]
  },
  {
   "cell_type": "code",
   "execution_count": 6,
   "metadata": {},
   "outputs": [],
   "source": [
    "#filter out all the files you DON'T want\n",
    "#samples = !find $path ! -regex '^\\.' ! -name '*rmg' ! -name '*inp' ! -name '*DS_Store' ! -name '*sam' ! -name '*csv' ! -name '*xls' ! -name '*stat' ! -name '*UP' ! -name '*._*' -type f"
   ]
  },
  {
   "cell_type": "code",
   "execution_count": 7,
   "metadata": {},
   "outputs": [],
   "source": [
    "def calc_moment_diff(sample_list, step1, step2):\n",
    "    data = dict()\n",
    "    for i in sample_list:\n",
    "        #sample_ex = pd.read_fwf(i, delim_whitespace=True, skiprows=2, header=None, usecols=[0, 5], names = ['step', 'intensity'])\n",
    "        sample_ex = pd.read_fwf(i, skiprows=2, widths=[3,3,6,6,6,6,9,6], \n",
    "                                names=['demag_type', 'step', 'dec_geo', 'inc_geo', \n",
    "                                       'dec_tc', 'inc_tc', 'intensity', 'error_angle'], dtype={'step':str})\n",
    "        for j in range(len(sample_ex)):\n",
    "            if sample_ex['step'][j]!='nan':\n",
    "                sample_ex.demag_type.at[j] = sample_ex['demag_type'][j]+sample_ex['step'][j]\n",
    "        sample_name = os.path.basename(i)\n",
    "        data[sample_name] = {}\n",
    "        # the '.tolist()[-1]' makes sure that you take the last measurement of any one step\n",
    "        # in the case of duplicates\n",
    "        data[sample_name]['NRM'] = sample_ex.loc[sample_ex['demag_type']=='NRM']['intensity'].tolist()[-1]\n",
    "        data[sample_name][step1] = float(sample_ex.loc[sample_ex['demag_type']==step1]['intensity'].tolist()[-1])\n",
    "        data[sample_name][step2] = float(sample_ex.loc[sample_ex['demag_type']==step2]['intensity'].tolist()[-1])\n",
    "        data[sample_name]['moment_diff'] = data[sample_name][step2] - data[sample_name][step1]\n",
    "        data[sample_name]['moment_diff_percent'] = (data[sample_name][step2] - data[sample_name][step1])/data[sample_name][step1] * 100\n",
    "    dataframe = pd.DataFrame(data)\n",
    "    #impose a sensible ordering of rows\n",
    "    try:\n",
    "        dataframe.index = [u'NRM', u'{}'.format(step1), u'{}'.format(step2), u'moment_diff', u'moment_diff_percent']\n",
    "    except: #if NRM is one of the steps for comparison\n",
    "        dataframe.index = [u'{}'.format(step1), u'{}'.format(step2), u'moment_diff', u'moment_diff_percent']\n",
    "    dataframe = dataframe.transpose()\n",
    "    return dataframe"
   ]
  },
  {
   "cell_type": "markdown",
   "metadata": {},
   "source": [
    "### Step 2. \n",
    "In the line\n",
    "```python \n",
    "data = calc_moment_diff(samples, 'NRM', 'LT1')\n",
    "```\n",
    "replace ```'NRM'``` and ```'LT1'``` with the names of the steps for which the moment difference should be calculated. NRM will always output by default. \n",
    "\n",
    "For example, if you want the moment difference between the TT100 and TT200 thermal steps, you would change the line below to\n",
    "```python \n",
    "data = calc_moment_diff(samples, 'TT100', 'TT200')\n",
    "```"
   ]
  },
  {
   "cell_type": "code",
   "execution_count": 8,
   "metadata": {},
   "outputs": [],
   "source": [
    "data = calc_moment_diff(samples, 'LT1', 'LT2')"
   ]
  },
  {
   "cell_type": "markdown",
   "metadata": {},
   "source": [
    "### Step 3. \n",
    "View and check the output."
   ]
  },
  {
   "cell_type": "code",
   "execution_count": 9,
   "metadata": {},
   "outputs": [
    {
     "data": {
      "text/html": [
       "<div>\n",
       "<style scoped>\n",
       "    .dataframe tbody tr th:only-of-type {\n",
       "        vertical-align: middle;\n",
       "    }\n",
       "\n",
       "    .dataframe tbody tr th {\n",
       "        vertical-align: top;\n",
       "    }\n",
       "\n",
       "    .dataframe thead th {\n",
       "        text-align: right;\n",
       "    }\n",
       "</style>\n",
       "<table border=\"1\" class=\"dataframe\">\n",
       "  <thead>\n",
       "    <tr style=\"text-align: right;\">\n",
       "      <th></th>\n",
       "      <th>NRM</th>\n",
       "      <th>LT1</th>\n",
       "      <th>LT2</th>\n",
       "      <th>moment_diff</th>\n",
       "      <th>moment_diff_percent</th>\n",
       "    </tr>\n",
       "  </thead>\n",
       "  <tbody>\n",
       "    <tr>\n",
       "      <th>HC16-13B.1</th>\n",
       "      <td>0.000015</td>\n",
       "      <td>0.000014</td>\n",
       "      <td>0.000019</td>\n",
       "      <td>-4.000000e-07</td>\n",
       "      <td>-2.684564</td>\n",
       "    </tr>\n",
       "    <tr>\n",
       "      <th>HC16-6A.1</th>\n",
       "      <td>0.000006</td>\n",
       "      <td>0.000006</td>\n",
       "      <td>0.000007</td>\n",
       "      <td>-8.000000e-08</td>\n",
       "      <td>-1.379310</td>\n",
       "    </tr>\n",
       "    <tr>\n",
       "      <th>HC16-6B.1</th>\n",
       "      <td>0.000006</td>\n",
       "      <td>0.000006</td>\n",
       "      <td>0.000006</td>\n",
       "      <td>-1.300000e-07</td>\n",
       "      <td>-2.245250</td>\n",
       "    </tr>\n",
       "    <tr>\n",
       "      <th>HC16-9A.1</th>\n",
       "      <td>0.000012</td>\n",
       "      <td>0.000011</td>\n",
       "      <td>0.000013</td>\n",
       "      <td>-2.000000e-07</td>\n",
       "      <td>-1.724138</td>\n",
       "    </tr>\n",
       "  </tbody>\n",
       "</table>\n",
       "</div>"
      ],
      "text/plain": [
       "                 NRM       LT1       LT2   moment_diff  moment_diff_percent\n",
       "HC16-13B.1  0.000015  0.000014  0.000019 -4.000000e-07            -2.684564\n",
       "HC16-6A.1   0.000006  0.000006  0.000007 -8.000000e-08            -1.379310\n",
       "HC16-6B.1   0.000006  0.000006  0.000006 -1.300000e-07            -2.245250\n",
       "HC16-9A.1   0.000012  0.000011  0.000013 -2.000000e-07            -1.724138"
      ]
     },
     "execution_count": 9,
     "metadata": {},
     "output_type": "execute_result"
    }
   ],
   "source": [
    "data"
   ]
  },
  {
   "cell_type": "markdown",
   "metadata": {},
   "source": [
    "# Step 4. \n",
    "Output the data!"
   ]
  },
  {
   "cell_type": "code",
   "execution_count": 12,
   "metadata": {},
   "outputs": [],
   "source": [
    "# uncomment line below to export the above dataframe to excel\n",
    "# dataframe.to_excel(os.path.basename(path)+'.xlsx')"
   ]
  }
 ],
 "metadata": {
  "anaconda-cloud": {},
  "hide_input": false,
  "kernelspec": {
   "display_name": "Python 2",
   "language": "python",
   "name": "python2"
  },
  "language_info": {
   "codemirror_mode": {
    "name": "ipython",
    "version": 2
   },
   "file_extension": ".py",
   "mimetype": "text/x-python",
   "name": "python",
   "nbconvert_exporter": "python",
   "pygments_lexer": "ipython2",
   "version": "2.7.14"
  }
 },
 "nbformat": 4,
 "nbformat_minor": 1
}
