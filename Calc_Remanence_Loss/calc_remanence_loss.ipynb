{
 "cells": [
  {
   "cell_type": "code",
   "execution_count": 1,
   "metadata": {
    "collapsed": true
   },
   "outputs": [],
   "source": [
    "import os\n",
    "import pandas as pd"
   ]
  },
  {
   "cell_type": "markdown",
   "metadata": {},
   "source": [
    "### Step 1. \n",
    "Type in path to the site folder on your computer."
   ]
  },
  {
   "cell_type": "code",
   "execution_count": 2,
   "metadata": {
    "collapsed": true
   },
   "outputs": [],
   "source": [
    "#type in path to site\n",
    "path = os.path.dirname('/Users/lukefairchild765/Dropbox/Hargraves_Data/PretoriaGrp_SAfrica/Hekpoort2016/HC16-/')"
   ]
  },
  {
   "cell_type": "code",
   "execution_count": 3,
   "metadata": {
    "collapsed": true
   },
   "outputs": [],
   "source": [
    "#filter out all the files you DON'T want\n",
    "samples = !find $path ! -regex '^\\.' ! -name '*rmg' ! -name '*inp' ! -name '*DS_Store' ! -name '*sam' ! -name '*csv' ! -name '*xls' ! -name '*stat' ! -name '*UP' ! -name '*._*' -type f"
   ]
  },
  {
   "cell_type": "code",
   "execution_count": 4,
   "metadata": {
    "collapsed": false
   },
   "outputs": [],
   "source": [
    "def calc_moment_diff(sample_list, step1, step2):\n",
    "    data = dict()\n",
    "    for i in samples:\n",
    "        sample_ex = pd.read_csv(i, delim_whitespace=True, skiprows=2, header=None, usecols=[0, 5], names = ['step', 'intensity'])\n",
    "        sample_name = os.path.basename(i)\n",
    "        data[sample_name] = {}\n",
    "        # the '.tolist()[-1]' makes sure that you take the last measurement of any one step\n",
    "        # in the case of duplicates\n",
    "        data[sample_name]['NRM'] = sample_ex.ix[sample_ex['step']=='NRM']['intensity'].tolist()[-1]\n",
    "        data[sample_name][step1] = float(sample_ex.ix[sample_ex['step']==step1]['intensity'].tolist()[-1])\n",
    "        data[sample_name][step2] = float(sample_ex.ix[sample_ex['step']==step2]['intensity'].tolist()[-1])\n",
    "        data[sample_name]['moment_diff'] = data[sample_name][step2] - data[sample_name][step1]\n",
    "        data[sample_name]['moment_diff_percent'] = (data[sample_name][step2] - data[sample_name][step1])/data[sample_name][step1] * 100\n",
    "    return data"
   ]
  },
  {
   "cell_type": "markdown",
   "metadata": {},
   "source": [
    "### Step 2. \n",
    "In the line\n",
    "```python \n",
    "data = calc_moment_diff(samples, 'NRM', 'LT1')\n",
    "```\n",
    "replace ```'NRM'``` and ```'LT1'``` with the names of the steps for which the moment difference should be calculated. NRM will always output by default. \n",
    "\n",
    "For example, if you want the moment difference between the TT100 and TT200 thermal steps, you would change the line below to\n",
    "```python \n",
    "data = calc_moment_diff(samples, 'TT100', 'TT200')\n",
    "```"
   ]
  },
  {
   "cell_type": "code",
   "execution_count": 5,
   "metadata": {
    "collapsed": false
   },
   "outputs": [],
   "source": [
    "data = calc_moment_diff(samples, 'NRM', 'LT1')\n",
    "dataframe = pd.DataFrame(data)\n",
    "#impose a sensible ordering of rows\n",
    "dataframe.index = [ u'NRM', u'LT1', u'moment_diff', u'moment_diff_percent']"
   ]
  },
  {
   "cell_type": "markdown",
   "metadata": {},
   "source": [
    "### Step 3. \n",
    "View and check the output."
   ]
  },
  {
   "cell_type": "code",
   "execution_count": 6,
   "metadata": {
    "collapsed": false
   },
   "outputs": [
    {
     "data": {
      "text/html": [
       "<div>\n",
       "<table border=\"1\" class=\"dataframe\">\n",
       "  <thead>\n",
       "    <tr style=\"text-align: right;\">\n",
       "      <th></th>\n",
       "      <th>HC16-10A.1</th>\n",
       "      <th>HC16-10B.1</th>\n",
       "      <th>HC16-11A.1</th>\n",
       "      <th>HC16-11B.3</th>\n",
       "      <th>HC16-12A.1</th>\n",
       "      <th>HC16-13A.2</th>\n",
       "      <th>HC16-13B.1</th>\n",
       "      <th>HC16-1A.1</th>\n",
       "      <th>HC16-1B.1</th>\n",
       "      <th>HC16-2A.1</th>\n",
       "      <th>...</th>\n",
       "      <th>HC16-3B.1</th>\n",
       "      <th>HC16-4A.1</th>\n",
       "      <th>HC16-4B.1</th>\n",
       "      <th>HC16-5A.1</th>\n",
       "      <th>HC16-5B.2</th>\n",
       "      <th>HC16-6A.1</th>\n",
       "      <th>HC16-6B.1</th>\n",
       "      <th>HC16-7A.1</th>\n",
       "      <th>HC16-8A.1</th>\n",
       "      <th>HC16-9A.1</th>\n",
       "    </tr>\n",
       "  </thead>\n",
       "  <tbody>\n",
       "    <tr>\n",
       "      <th>NRM</th>\n",
       "      <td>0.000221</td>\n",
       "      <td>0.001340</td>\n",
       "      <td>0.000678</td>\n",
       "      <td>0.000031</td>\n",
       "      <td>0.000013</td>\n",
       "      <td>0.000085</td>\n",
       "      <td>0.000015</td>\n",
       "      <td>0.001530</td>\n",
       "      <td>0.000043</td>\n",
       "      <td>0.000036</td>\n",
       "      <td>...</td>\n",
       "      <td>4.500000e-06</td>\n",
       "      <td>0.000064</td>\n",
       "      <td>0.000155</td>\n",
       "      <td>0.000033</td>\n",
       "      <td>0.000041</td>\n",
       "      <td>5.800000e-06</td>\n",
       "      <td>5.790000e-06</td>\n",
       "      <td>0.000072</td>\n",
       "      <td>0.000043</td>\n",
       "      <td>0.000012</td>\n",
       "    </tr>\n",
       "    <tr>\n",
       "      <th>LT1</th>\n",
       "      <td>0.000308</td>\n",
       "      <td>0.001830</td>\n",
       "      <td>0.001050</td>\n",
       "      <td>0.000034</td>\n",
       "      <td>0.000016</td>\n",
       "      <td>0.000099</td>\n",
       "      <td>0.000019</td>\n",
       "      <td>0.002180</td>\n",
       "      <td>0.000046</td>\n",
       "      <td>0.000031</td>\n",
       "      <td>...</td>\n",
       "      <td>4.790000e-06</td>\n",
       "      <td>0.000069</td>\n",
       "      <td>0.000271</td>\n",
       "      <td>0.000018</td>\n",
       "      <td>0.000043</td>\n",
       "      <td>6.700000e-06</td>\n",
       "      <td>6.310000e-06</td>\n",
       "      <td>0.000169</td>\n",
       "      <td>0.000046</td>\n",
       "      <td>0.000013</td>\n",
       "    </tr>\n",
       "    <tr>\n",
       "      <th>moment_diff</th>\n",
       "      <td>-0.000087</td>\n",
       "      <td>-0.000490</td>\n",
       "      <td>-0.000372</td>\n",
       "      <td>-0.000002</td>\n",
       "      <td>-0.000003</td>\n",
       "      <td>-0.000014</td>\n",
       "      <td>-0.000004</td>\n",
       "      <td>-0.000650</td>\n",
       "      <td>-0.000003</td>\n",
       "      <td>0.000005</td>\n",
       "      <td>...</td>\n",
       "      <td>-2.900000e-07</td>\n",
       "      <td>-0.000005</td>\n",
       "      <td>-0.000116</td>\n",
       "      <td>0.000015</td>\n",
       "      <td>-0.000002</td>\n",
       "      <td>-9.000000e-07</td>\n",
       "      <td>-5.200000e-07</td>\n",
       "      <td>-0.000097</td>\n",
       "      <td>-0.000003</td>\n",
       "      <td>-0.000001</td>\n",
       "    </tr>\n",
       "    <tr>\n",
       "      <th>moment_diff_percent</th>\n",
       "      <td>-28.246753</td>\n",
       "      <td>-26.775956</td>\n",
       "      <td>-35.428571</td>\n",
       "      <td>-7.462687</td>\n",
       "      <td>-19.496855</td>\n",
       "      <td>-14.127144</td>\n",
       "      <td>-23.195876</td>\n",
       "      <td>-29.816514</td>\n",
       "      <td>-7.189542</td>\n",
       "      <td>16.242038</td>\n",
       "      <td>...</td>\n",
       "      <td>-6.054280e+00</td>\n",
       "      <td>-7.338129</td>\n",
       "      <td>-42.804428</td>\n",
       "      <td>84.831461</td>\n",
       "      <td>-4.377880</td>\n",
       "      <td>-1.343284e+01</td>\n",
       "      <td>-8.240887e+00</td>\n",
       "      <td>-57.218935</td>\n",
       "      <td>-6.507592</td>\n",
       "      <td>-7.936508</td>\n",
       "    </tr>\n",
       "  </tbody>\n",
       "</table>\n",
       "<p>4 rows × 21 columns</p>\n",
       "</div>"
      ],
      "text/plain": [
       "                     HC16-10A.1  HC16-10B.1  HC16-11A.1  HC16-11B.3  \\\n",
       "NRM                    0.000221    0.001340    0.000678    0.000031   \n",
       "LT1                    0.000308    0.001830    0.001050    0.000034   \n",
       "moment_diff           -0.000087   -0.000490   -0.000372   -0.000002   \n",
       "moment_diff_percent  -28.246753  -26.775956  -35.428571   -7.462687   \n",
       "\n",
       "                     HC16-12A.1  HC16-13A.2  HC16-13B.1  HC16-1A.1  HC16-1B.1  \\\n",
       "NRM                    0.000013    0.000085    0.000015   0.001530   0.000043   \n",
       "LT1                    0.000016    0.000099    0.000019   0.002180   0.000046   \n",
       "moment_diff           -0.000003   -0.000014   -0.000004  -0.000650  -0.000003   \n",
       "moment_diff_percent  -19.496855  -14.127144  -23.195876 -29.816514  -7.189542   \n",
       "\n",
       "                     HC16-2A.1    ...         HC16-3B.1  HC16-4A.1  HC16-4B.1  \\\n",
       "NRM                   0.000036    ...      4.500000e-06   0.000064   0.000155   \n",
       "LT1                   0.000031    ...      4.790000e-06   0.000069   0.000271   \n",
       "moment_diff           0.000005    ...     -2.900000e-07  -0.000005  -0.000116   \n",
       "moment_diff_percent  16.242038    ...     -6.054280e+00  -7.338129 -42.804428   \n",
       "\n",
       "                     HC16-5A.1  HC16-5B.2     HC16-6A.1     HC16-6B.1  \\\n",
       "NRM                   0.000033   0.000041  5.800000e-06  5.790000e-06   \n",
       "LT1                   0.000018   0.000043  6.700000e-06  6.310000e-06   \n",
       "moment_diff           0.000015  -0.000002 -9.000000e-07 -5.200000e-07   \n",
       "moment_diff_percent  84.831461  -4.377880 -1.343284e+01 -8.240887e+00   \n",
       "\n",
       "                     HC16-7A.1  HC16-8A.1  HC16-9A.1  \n",
       "NRM                   0.000072   0.000043   0.000012  \n",
       "LT1                   0.000169   0.000046   0.000013  \n",
       "moment_diff          -0.000097  -0.000003  -0.000001  \n",
       "moment_diff_percent -57.218935  -6.507592  -7.936508  \n",
       "\n",
       "[4 rows x 21 columns]"
      ]
     },
     "execution_count": 6,
     "metadata": {},
     "output_type": "execute_result"
    }
   ],
   "source": [
    "dataframe"
   ]
  },
  {
   "cell_type": "markdown",
   "metadata": {},
   "source": [
    "### Step 4. \n",
    "Output the data!"
   ]
  },
  {
   "cell_type": "code",
   "execution_count": 7,
   "metadata": {
    "collapsed": false
   },
   "outputs": [],
   "source": [
    "# uncomment line below to export the above dataframe to excel\n",
    "# dataframe.to_excel(os.path.basename(path)+'.xlsx')"
   ]
  }
 ],
 "metadata": {
  "anaconda-cloud": {},
  "hide_input": false,
  "kernelspec": {
   "display_name": "Python 2",
   "language": "python",
   "name": "python2"
  },
  "language_info": {
   "codemirror_mode": {
    "name": "ipython",
    "version": 2
   },
   "file_extension": ".py",
   "mimetype": "text/x-python",
   "name": "python",
   "nbconvert_exporter": "python",
   "pygments_lexer": "ipython2",
   "version": "2.7.12"
  }
 },
 "nbformat": 4,
 "nbformat_minor": 1
}
