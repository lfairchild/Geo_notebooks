{
 "cells": [
  {
   "cell_type": "code",
   "execution_count": 1,
   "metadata": {
    "collapsed": true
   },
   "outputs": [],
   "source": [
    "import os\n",
    "import pandas as pd"
   ]
  },
  {
   "cell_type": "markdown",
   "metadata": {},
   "source": [
    "### Step 1. \n",
    "Type in path to the site folder on your computer."
   ]
  },
  {
   "cell_type": "code",
   "execution_count": 2,
   "metadata": {
    "collapsed": true
   },
   "outputs": [],
   "source": [
    "#type in path to site\n",
    "path = os.path.dirname('/Users/lukefairchild765/Dropbox/Hargraves_Data/PretoriaGrp_SAfrica/Hekpoort2016/H16-1/')"
   ]
  },
  {
   "cell_type": "code",
   "execution_count": 3,
   "metadata": {
    "collapsed": true
   },
   "outputs": [],
   "source": [
    "#filter out all the files you DON'T want\n",
    "samples = !find $path ! -name '*rmg' ! -name '*inp' ! -name '*DS_Store' ! -name '*sam' ! -name '*csv' ! -name '*xls' ! -name '*stat' ! -name '*UP' -type f"
   ]
  },
  {
   "cell_type": "code",
   "execution_count": 4,
   "metadata": {
    "collapsed": false
   },
   "outputs": [],
   "source": [
    "def calc_moment_diff(sample_list, step1, step2):\n",
    "    data = dict()\n",
    "    for i in samples:\n",
    "        sample_ex = pd.read_csv(i, delim_whitespace=True, skiprows=2, header=None, usecols=[0, 5], names = ['step', 'intensity'])\n",
    "        sample_name = os.path.basename(i)\n",
    "        data[sample_name] = {}\n",
    "        # the '.tolist()[-1]' makes sure that you take the last measurement of any one step\n",
    "        # in the case of duplicates\n",
    "        data[sample_name]['NRM'] = sample_ex.ix[sample_ex['step']=='NRM']['intensity'].tolist()[-1]\n",
    "        data[sample_name][step1] = float(sample_ex.ix[sample_ex['step']==step1]['intensity'].tolist()[-1])\n",
    "        data[sample_name][step2] = float(sample_ex.ix[sample_ex['step']==step2]['intensity'].tolist()[-1])\n",
    "        data[sample_name]['moment_diff'] = data[sample_name][step2] - data[sample_name][step1]\n",
    "        data[sample_name]['moment_diff_percent'] = (data[sample_name][step2] - data[sample_name][step1])/data[sample_name][step1] * 100\n",
    "    return data"
   ]
  },
  {
   "cell_type": "markdown",
   "metadata": {},
   "source": [
    "### Step 2. \n",
    "In the line\n",
    "```python \n",
    "data = calc_moment_diff(samples, 'NRM', 'LT1')\n",
    "```\n",
    "replace ```'NRM'``` and ```'LT1'``` with the names of the steps for which the moment difference should be calculated. NRM will always output by default. \n",
    "\n",
    "For example, if you want the moment difference between the TT100 and TT200 thermal steps, you would change the line below to\n",
    "```python \n",
    "data = calc_moment_diff(samples, 'TT100', 'TT200')\n",
    "```"
   ]
  },
  {
   "cell_type": "code",
   "execution_count": 5,
   "metadata": {
    "collapsed": false
   },
   "outputs": [],
   "source": [
    "data = calc_moment_diff(samples, 'NRM', 'LT1')\n",
    "dataframe = pd.DataFrame(data)\n",
    "#impose a sensible ordering of rows\n",
    "dataframe.index = [ u'NRM', u'LT1', u'moment_diff', u'moment_diff_percent']"
   ]
  },
  {
   "cell_type": "markdown",
   "metadata": {},
   "source": [
    "### Step 3. \n",
    "View and check the output."
   ]
  },
  {
   "cell_type": "code",
   "execution_count": 6,
   "metadata": {
    "collapsed": false
   },
   "outputs": [
    {
     "data": {
      "text/html": [
       "<div>\n",
       "<table border=\"1\" class=\"dataframe\">\n",
       "  <thead>\n",
       "    <tr style=\"text-align: right;\">\n",
       "      <th></th>\n",
       "      <th>H16-1A.1</th>\n",
       "      <th>H16-1B.1</th>\n",
       "      <th>H16-1C.1</th>\n",
       "      <th>H16-1D.1</th>\n",
       "      <th>H16-1E.1</th>\n",
       "      <th>H16-1F.1</th>\n",
       "      <th>H16-1G.1</th>\n",
       "      <th>H16-1H.1</th>\n",
       "      <th>H16-1I.1</th>\n",
       "      <th>H16-1J.1</th>\n",
       "    </tr>\n",
       "  </thead>\n",
       "  <tbody>\n",
       "    <tr>\n",
       "      <th>NRM</th>\n",
       "      <td>5.980000e-06</td>\n",
       "      <td>9.970000e-06</td>\n",
       "      <td>0.000014</td>\n",
       "      <td>0.000039</td>\n",
       "      <td>4.500000e-06</td>\n",
       "      <td>9.640000e-06</td>\n",
       "      <td>8.140000e-06</td>\n",
       "      <td>1.010000e-05</td>\n",
       "      <td>1.110000e-05</td>\n",
       "      <td>1.780000e-05</td>\n",
       "    </tr>\n",
       "    <tr>\n",
       "      <th>LT1</th>\n",
       "      <td>6.300000e-06</td>\n",
       "      <td>1.030000e-05</td>\n",
       "      <td>0.000015</td>\n",
       "      <td>0.000042</td>\n",
       "      <td>4.690000e-06</td>\n",
       "      <td>1.000000e-05</td>\n",
       "      <td>8.610000e-06</td>\n",
       "      <td>1.060000e-05</td>\n",
       "      <td>1.180000e-05</td>\n",
       "      <td>1.880000e-05</td>\n",
       "    </tr>\n",
       "    <tr>\n",
       "      <th>moment_diff</th>\n",
       "      <td>-3.200000e-07</td>\n",
       "      <td>-3.300000e-07</td>\n",
       "      <td>-0.000001</td>\n",
       "      <td>-0.000003</td>\n",
       "      <td>-1.900000e-07</td>\n",
       "      <td>-3.600000e-07</td>\n",
       "      <td>-4.700000e-07</td>\n",
       "      <td>-5.000000e-07</td>\n",
       "      <td>-7.000000e-07</td>\n",
       "      <td>-1.000000e-06</td>\n",
       "    </tr>\n",
       "    <tr>\n",
       "      <th>moment_diff_percent</th>\n",
       "      <td>-5.079365e+00</td>\n",
       "      <td>-3.203883e+00</td>\n",
       "      <td>-6.578947</td>\n",
       "      <td>-6.235012</td>\n",
       "      <td>-4.051173e+00</td>\n",
       "      <td>-3.600000e+00</td>\n",
       "      <td>-5.458769e+00</td>\n",
       "      <td>-4.716981e+00</td>\n",
       "      <td>-5.932203e+00</td>\n",
       "      <td>-5.319149e+00</td>\n",
       "    </tr>\n",
       "  </tbody>\n",
       "</table>\n",
       "</div>"
      ],
      "text/plain": [
       "                         H16-1A.1      H16-1B.1  H16-1C.1  H16-1D.1  \\\n",
       "NRM                  5.980000e-06  9.970000e-06  0.000014  0.000039   \n",
       "LT1                  6.300000e-06  1.030000e-05  0.000015  0.000042   \n",
       "moment_diff         -3.200000e-07 -3.300000e-07 -0.000001 -0.000003   \n",
       "moment_diff_percent -5.079365e+00 -3.203883e+00 -6.578947 -6.235012   \n",
       "\n",
       "                         H16-1E.1      H16-1F.1      H16-1G.1      H16-1H.1  \\\n",
       "NRM                  4.500000e-06  9.640000e-06  8.140000e-06  1.010000e-05   \n",
       "LT1                  4.690000e-06  1.000000e-05  8.610000e-06  1.060000e-05   \n",
       "moment_diff         -1.900000e-07 -3.600000e-07 -4.700000e-07 -5.000000e-07   \n",
       "moment_diff_percent -4.051173e+00 -3.600000e+00 -5.458769e+00 -4.716981e+00   \n",
       "\n",
       "                         H16-1I.1      H16-1J.1  \n",
       "NRM                  1.110000e-05  1.780000e-05  \n",
       "LT1                  1.180000e-05  1.880000e-05  \n",
       "moment_diff         -7.000000e-07 -1.000000e-06  \n",
       "moment_diff_percent -5.932203e+00 -5.319149e+00  "
      ]
     },
     "execution_count": 6,
     "metadata": {},
     "output_type": "execute_result"
    }
   ],
   "source": [
    "dataframe"
   ]
  },
  {
   "cell_type": "markdown",
   "metadata": {},
   "source": [
    "### Step 4. \n",
    "Output the data!"
   ]
  },
  {
   "cell_type": "code",
   "execution_count": 7,
   "metadata": {
    "collapsed": false
   },
   "outputs": [],
   "source": [
    "# uncomment line below to export the above dataframe to excel\n",
    "# dataframe.to_excel(os.path.basename(path)+'.xlsx')"
   ]
  }
 ],
 "metadata": {
  "anaconda-cloud": {},
  "hide_input": false,
  "kernelspec": {
   "display_name": "Python 2",
   "language": "python",
   "name": "python2"
  },
  "language_info": {
   "codemirror_mode": {
    "name": "ipython",
    "version": 2
   },
   "file_extension": ".py",
   "mimetype": "text/x-python",
   "name": "python",
   "nbconvert_exporter": "python",
   "pygments_lexer": "ipython2",
   "version": "2.7.12"
  }
 },
 "nbformat": 4,
 "nbformat_minor": 1
}
